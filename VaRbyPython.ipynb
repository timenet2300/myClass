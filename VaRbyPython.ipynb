{
  "nbformat": 4,
  "nbformat_minor": 0,
  "metadata": {
    "colab": {
      "name": "VaRbyPython.ipynb",
      "private_outputs": true,
      "provenance": []
    },
    "kernelspec": {
      "name": "python3",
      "display_name": "Python 3"
    }
  },
  "cells": [
    {
      "cell_type": "code",
      "metadata": {
        "id": "LS73qnddO4c5"
      },
      "source": [
        "!pip install quandl"
      ],
      "execution_count": null,
      "outputs": []
    },
    {
      "cell_type": "code",
      "metadata": {
        "id": "_m38MPxWNu6_"
      },
      "source": [
        "\r\n",
        "\r\n",
        "#Preparation \r\n",
        "import numpy as np\r\n",
        "import pandas as pd\r\n",
        "import quandl\r\n",
        "import matplotlib.pyplot as plt\r\n",
        "from matplotlib import style\r\n",
        "\r\n",
        "\r\n",
        "#Importing from Quandl API Bank of America Datas (.4 means close prices)\r\n",
        "ticker = \"WIKI/BAC.4\"\r\n",
        "ticker\r\n",
        "df = quandl.get(ticker, start_date=\"2010-12-31\", end_date=\"2019-12-31\", collapse=\"daily\")\r\n",
        "df.tail()\r\n"
      ],
      "execution_count": null,
      "outputs": []
    },
    {
      "cell_type": "code",
      "metadata": {
        "id": "uJgffCjpPOAg"
      },
      "source": [
        "\r\n",
        "\r\n",
        "percentage = df.pct_change()\r\n",
        "percentage = percentage.dropna(how='any') \r\n",
        "    \r\n",
        "#Present the datas in ascending order\r\n",
        "order_percentage = sorted(percentage[\"Close\"])\r\n",
        "\r\n",
        "print(order_percentage)\r\n",
        "\r\n",
        "print (\"99.99% Actual loss won't exceed: \" , \"{0:.2f}%\".format(np.percentile(order_percentage, .01) * 100))\r\n",
        "print (\"99% Actual loss won't exceed: \" + \"{0:.2f}%\".format(np.percentile(order_percentage, 1) * 100))\r\n",
        "print (\"95% Actual loss won't exceed: \" + \"{0:.2f}%\".format(np.percentile(order_percentage, 5) * 100))\r\n",
        "print (\"Losses expected to exceed \" + \"{0:.2f}%\".format(np.percentile(order_percentage, 5) * 100) + \" \" + str(.05*len(percentage)) + \" out of \" + str(len(percentage)) + \" days\")\r\n",
        "varg = np.percentile(order_percentage, 5)\r\n",
        "\r\n",
        "#And that's it. You'll probably get a very long print output (which depends by the time-period you've code), together with your VaR computation.\r\n",
        "\r\n"
      ],
      "execution_count": null,
      "outputs": []
    },
    {
      "cell_type": "code",
      "metadata": {
        "id": "1wWzZxQZOv8A"
      },
      "source": [
        "#For the Multi-Asset Class Portfolio:\r\n",
        "\r\n",
        "#Extending the Dataset to 5 different assets, combining them into a Portfolio with alternative exposures.\r\n",
        "tickers = [\"WIKI/BAC.4\", \"WIKI/AAPL.4\", \"WIKI/NKE.4\", \"WIKI/NFLX.4\", \"WIKI/AMZN.4\"]\r\n",
        "exposures = [1000000, 400000, 3000000, 200000, 10000000]\r\n",
        "df = quandl.get(tickers, start_date=\"2010-12-31\", end_date=\"2018-12-31\", collapse=\"daily\")\r\n",
        "\r\n",
        "\r\n",
        "#Returns computation\r\n",
        "percentage = df.pct_change()\r\n",
        "\r\n",
        "#Different Dollar Exposures into Portfolio\r\n",
        "value_ptf = percentage * exposures\r\n",
        "value_ptf['Value of Portfolio'] = value_ptf.sum(axis=1)\r\n",
        "\r\n",
        "print(value_ptf)\r\n",
        "\r\n",
        "ptf_percentage = value_ptf['Value of Portfolio']\r\n",
        "ptf_percentage = ptf_percentage.sort_values(axis=0, ascending=True)\r\n",
        "\r\n",
        "VaR =  np.percentile(ptf_percentage, .01)\r\n",
        "VaR1 =  np.percentile(ptf_percentage, 1)\r\n",
        "VaR2 =  np.percentile(ptf_percentage, 5)\r\n",
        "\r\n",
        "print (\"99.99% Actual loss won't exceedd: \" + str(round(VaR, 2)))\r\n",
        "print (\"99% Actual loss won't exceed: \" + str(round(VaR1, 2)))\r\n",
        "print (\"95% Actual loss won't exceed: \" + str(round(VaR2, 2))) \r\n",
        "print (\"Losses expected to exceed \" + \"{0:.2f}\".format(VaR2) + \" \" + str(.05*len(ptf_percentage)) + \" out of \" + str(len(ptf_percentage)) + \" days\")\r\n",
        "percentage = percentage[1:]\r\n",
        "\r\n",
        "\r\n"
      ],
      "execution_count": null,
      "outputs": []
    },
    {
      "cell_type": "code",
      "metadata": {
        "id": "_Xvbr9m9QAgu"
      },
      "source": [
        ""
      ],
      "execution_count": null,
      "outputs": []
    }
  ]
}